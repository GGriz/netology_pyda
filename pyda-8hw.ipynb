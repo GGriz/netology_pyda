{
 "cells": [
  {
   "cell_type": "markdown",
   "metadata": {},
   "source": [
    "### Pandas - сводные таблицы и объединения"
   ]
  },
  {
   "cell_type": "markdown",
   "metadata": {},
   "source": [
    "1.Посчитайте среднее время жизни пользователей, которые выставили более 100 оценок. Под временем жизни понимается разница между максимальным и минимальным значением столбца timestamp для данного значения userId"
   ]
  },
  {
   "cell_type": "code",
   "execution_count": 4,
   "metadata": {},
   "outputs": [
    {
     "data": {
      "text/html": [
       "<div>\n",
       "<style scoped>\n",
       "    .dataframe tbody tr th:only-of-type {\n",
       "        vertical-align: middle;\n",
       "    }\n",
       "\n",
       "    .dataframe tbody tr th {\n",
       "        vertical-align: top;\n",
       "    }\n",
       "\n",
       "    .dataframe thead th {\n",
       "        text-align: right;\n",
       "    }\n",
       "</style>\n",
       "<table border=\"1\" class=\"dataframe\">\n",
       "  <thead>\n",
       "    <tr style=\"text-align: right;\">\n",
       "      <th></th>\n",
       "      <th>userId</th>\n",
       "      <th>movieId</th>\n",
       "      <th>rating</th>\n",
       "      <th>timestamp</th>\n",
       "    </tr>\n",
       "  </thead>\n",
       "  <tbody>\n",
       "    <tr>\n",
       "      <th>0</th>\n",
       "      <td>1</td>\n",
       "      <td>31</td>\n",
       "      <td>2.5</td>\n",
       "      <td>1260759144</td>\n",
       "    </tr>\n",
       "    <tr>\n",
       "      <th>1</th>\n",
       "      <td>1</td>\n",
       "      <td>1029</td>\n",
       "      <td>3.0</td>\n",
       "      <td>1260759179</td>\n",
       "    </tr>\n",
       "    <tr>\n",
       "      <th>2</th>\n",
       "      <td>1</td>\n",
       "      <td>1061</td>\n",
       "      <td>3.0</td>\n",
       "      <td>1260759182</td>\n",
       "    </tr>\n",
       "    <tr>\n",
       "      <th>3</th>\n",
       "      <td>1</td>\n",
       "      <td>1129</td>\n",
       "      <td>2.0</td>\n",
       "      <td>1260759185</td>\n",
       "    </tr>\n",
       "    <tr>\n",
       "      <th>4</th>\n",
       "      <td>1</td>\n",
       "      <td>1172</td>\n",
       "      <td>4.0</td>\n",
       "      <td>1260759205</td>\n",
       "    </tr>\n",
       "  </tbody>\n",
       "</table>\n",
       "</div>"
      ],
      "text/plain": [
       "   userId  movieId  rating   timestamp\n",
       "0       1       31     2.5  1260759144\n",
       "1       1     1029     3.0  1260759179\n",
       "2       1     1061     3.0  1260759182\n",
       "3       1     1129     2.0  1260759185\n",
       "4       1     1172     4.0  1260759205"
      ]
     },
     "execution_count": 4,
     "metadata": {},
     "output_type": "execute_result"
    }
   ],
   "source": [
    "import pandas as pd\n",
    "import numpy as np\n",
    "from typing import List\n",
    "from functools import reduce\n",
    "\n",
    "df = pd.read_csv('ratings.csv')\n",
    "df.head()"
   ]
  },
  {
   "cell_type": "code",
   "execution_count": 3,
   "metadata": {},
   "outputs": [
    {
     "name": "stdout",
     "output_type": "stream",
     "text": [
      "40080507\n"
     ]
    }
   ],
   "source": [
    "ratings = pd.read_csv('ratings.csv')\n",
    "\n",
    "users = ratings.groupby('userId').agg({'timestamp': ['min', 'max'], 'movieId': 'count'})\n",
    "users = users[users['movieId']['count'] > 100]\n",
    "users['Lifetime'] = users.apply(lambda row: row['timestamp']['max'] - row['timestamp']['min'], axis=1)\n",
    "\n",
    "avg_life_time = round(users['Lifetime'].mean())\n",
    "\n",
    "print(avg_life_time)"
   ]
  },
  {
   "cell_type": "markdown",
   "metadata": {},
   "source": [
    " 2.Дана статистика услуг перевозок клиентов компании по типам (см. файл с кодом занятия). Необходимо сформировать две таблицы:\n",
    "\n",
    " -таблицу с тремя типами выручки для каждого client_id без указания адреса клиента.\n",
    " \n",
    " -аналогичную таблицу по типам выручки с указанием адреса клиента\n",
    "Обратите внимание, что в процессе объединения таблиц данные не должны теряться.\n",
    "\n"
   ]
  },
  {
   "cell_type": "code",
   "execution_count": 5,
   "metadata": {},
   "outputs": [
    {
     "data": {
      "text/html": [
       "<div>\n",
       "<style scoped>\n",
       "    .dataframe tbody tr th:only-of-type {\n",
       "        vertical-align: middle;\n",
       "    }\n",
       "\n",
       "    .dataframe tbody tr th {\n",
       "        vertical-align: top;\n",
       "    }\n",
       "\n",
       "    .dataframe thead th {\n",
       "        text-align: right;\n",
       "    }\n",
       "</style>\n",
       "<table border=\"1\" class=\"dataframe\">\n",
       "  <thead>\n",
       "    <tr style=\"text-align: right;\">\n",
       "      <th></th>\n",
       "      <th>client_id</th>\n",
       "      <th>address</th>\n",
       "      <th>rzd_revenue</th>\n",
       "      <th>auto_revenue</th>\n",
       "      <th>air_revenue</th>\n",
       "    </tr>\n",
       "  </thead>\n",
       "  <tbody>\n",
       "    <tr>\n",
       "      <th>0</th>\n",
       "      <td>111</td>\n",
       "      <td>Комсомольская 4</td>\n",
       "      <td>1093.0</td>\n",
       "      <td>NaN</td>\n",
       "      <td>NaN</td>\n",
       "    </tr>\n",
       "    <tr>\n",
       "      <th>1</th>\n",
       "      <td>112</td>\n",
       "      <td>Энтузиастов 8а</td>\n",
       "      <td>2810.0</td>\n",
       "      <td>NaN</td>\n",
       "      <td>NaN</td>\n",
       "    </tr>\n",
       "    <tr>\n",
       "      <th>2</th>\n",
       "      <td>113</td>\n",
       "      <td>Левобережная 1а</td>\n",
       "      <td>10283.0</td>\n",
       "      <td>57483.0</td>\n",
       "      <td>NaN</td>\n",
       "    </tr>\n",
       "    <tr>\n",
       "      <th>3</th>\n",
       "      <td>114</td>\n",
       "      <td>Мира 14</td>\n",
       "      <td>5774.0</td>\n",
       "      <td>83.0</td>\n",
       "      <td>NaN</td>\n",
       "    </tr>\n",
       "    <tr>\n",
       "      <th>4</th>\n",
       "      <td>115</td>\n",
       "      <td>ЗЖБИиДК 1</td>\n",
       "      <td>981.0</td>\n",
       "      <td>912.0</td>\n",
       "      <td>81.0</td>\n",
       "    </tr>\n",
       "    <tr>\n",
       "      <th>5</th>\n",
       "      <td>116</td>\n",
       "      <td>Строителей 18</td>\n",
       "      <td>NaN</td>\n",
       "      <td>4834.0</td>\n",
       "      <td>4.0</td>\n",
       "    </tr>\n",
       "    <tr>\n",
       "      <th>6</th>\n",
       "      <td>117</td>\n",
       "      <td>Панфиловская 33</td>\n",
       "      <td>NaN</td>\n",
       "      <td>98.0</td>\n",
       "      <td>13.0</td>\n",
       "    </tr>\n",
       "    <tr>\n",
       "      <th>7</th>\n",
       "      <td>118</td>\n",
       "      <td>Мастеркова 4</td>\n",
       "      <td>NaN</td>\n",
       "      <td>NaN</td>\n",
       "      <td>173.0</td>\n",
       "    </tr>\n",
       "  </tbody>\n",
       "</table>\n",
       "</div>"
      ],
      "text/plain": [
       "   client_id          address  rzd_revenue  auto_revenue  air_revenue\n",
       "0        111  Комсомольская 4       1093.0           NaN          NaN\n",
       "1        112   Энтузиастов 8а       2810.0           NaN          NaN\n",
       "2        113  Левобережная 1а      10283.0       57483.0          NaN\n",
       "3        114          Мира 14       5774.0          83.0          NaN\n",
       "4        115        ЗЖБИиДК 1        981.0         912.0         81.0\n",
       "5        116    Строителей 18          NaN        4834.0          4.0\n",
       "6        117  Панфиловская 33          NaN          98.0         13.0\n",
       "7        118     Мастеркова 4          NaN           NaN        173.0"
      ]
     },
     "execution_count": 5,
     "metadata": {},
     "output_type": "execute_result"
    }
   ],
   "source": [
    "rzd = pd.DataFrame({'client_id': [111, 112, 113, 114, 115], 'rzd_revenue': [1093, 2810, 10283, 5774, 981]})\n",
    "\n",
    "auto = pd.DataFrame({'client_id': [113, 114, 115, 116, 117], 'auto_revenue': [57483, 83, 912, 4834, 98]})\n",
    "\n",
    "air = pd.DataFrame({'client_id': [115, 116, 117, 118], 'air_revenue': [81, 4, 13, 173]})\n",
    "\n",
    "client_base = pd.DataFrame({'client_id': [111, 112, 113, 114, 115, 116, 117, 118],\n",
    "                            'address': ['Комсомольская 4', 'Энтузиастов 8а', 'Левобережная 1а', 'Мира 14',\n",
    "                            'ЗЖБИиДК 1', 'Строителей 18', 'Панфиловская 33', 'Мастеркова 4']})\n",
    "\n",
    "def merge_dfs(dfs: List[pd.DataFrame], **kwargs) -> pd.DataFrame:\n",
    "    return reduce(lambda res, df: res.merge(df, **kwargs), dfs)\n",
    "\n",
    "merged_data = merge_dfs([client_base, rzd, auto, air], on='client_id', how='outer')\n",
    "\n",
    "merged_data.drop(columns='address')\n",
    "merged_data"
   ]
  },
  {
   "cell_type": "markdown",
   "metadata": {},
   "source": [
    "3.В задаче сквозной аналитики вам предоставили данные по местоположению пользователей. Т. е. для каждого user_id известна последовательность координат (широта/долгота), когда они требовались приложению для полноценной работы. Как бы вы добавили эти сведения в таблицу визитов и покупок?"
   ]
  },
  {
   "cell_type": "markdown",
   "metadata": {},
   "source": [
    "1) Провереяем является ли user_id уникальным. Если нет - создать уникальный ID.\n",
    "\n",
    "2) Так как мы имеем уникальный id и добавляемые нами сведенья являются числовыми, мы можем сделать одельную таблицу.\n",
    "\n",
    "3) Далее вносим в таблицу сведения о визитах и покупках. Или используем уже имеющуюся таблицу, может быть даже имеющийся у магазина dataset. Полученную таблицу можно анализировать как угодно."
   ]
  }
 ],
 "metadata": {
  "kernelspec": {
   "display_name": "Python 3",
   "language": "python",
   "name": "python3"
  },
  "language_info": {
   "codemirror_mode": {
    "name": "ipython",
    "version": 3
   },
   "file_extension": ".py",
   "mimetype": "text/x-python",
   "name": "python",
   "nbconvert_exporter": "python",
   "pygments_lexer": "ipython3",
   "version": "3.7.3"
  }
 },
 "nbformat": 4,
 "nbformat_minor": 2
}
