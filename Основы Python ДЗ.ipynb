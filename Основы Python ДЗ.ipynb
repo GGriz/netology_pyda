{
 "cells": [
  {
   "cell_type": "markdown",
   "metadata": {},
   "source": [
    "**Задание 1**. Даны 2 строки: *long_phrase* и *short_phrase*. \n",
    "Напишите код, который проверяет действительно ли длинная фраза *long_phrase* длиннее короткой *short_phrase*. И выводит *True* или *False* в зависимости от результата сравнения."
   ]
  },
  {
   "cell_type": "code",
   "execution_count": 15,
   "metadata": {},
   "outputs": [],
   "source": [
    "long_phrase = 'Насколько проще было бы писать программы, если бы не заказчики'\n",
    "short_phrase = '640Кб должно хватить для любых задач. Билл Гейтс (по легенде)'"
   ]
  },
  {
   "cell_type": "code",
   "execution_count": 18,
   "metadata": {},
   "outputs": [
    {
     "data": {
      "text/plain": [
       "True"
      ]
     },
     "execution_count": 18,
     "metadata": {},
     "output_type": "execute_result"
    }
   ],
   "source": [
    "len(long_phrase) > len(short_phrase)"
   ]
  },
  {
   "cell_type": "markdown",
   "metadata": {},
   "source": [
    "**Задание 2**. Дано значение объема файла в байтах. Напишите перевод этого значения в мегабайты в формате: \"*Объем файла равен 213.68Mb*\""
   ]
  },
  {
   "cell_type": "code",
   "execution_count": 19,
   "metadata": {},
   "outputs": [
    {
     "name": "stdout",
     "output_type": "stream",
     "text": [
      "224059719.68\n"
     ]
    }
   ],
   "source": [
    "print(1048576 * 213.68)"
   ]
  },
  {
   "cell_type": "markdown",
   "metadata": {},
   "source": [
    "**Задание 3**. Разработать приложение для определения знака зодиака по дате рождения. Пример:\n",
    "\n",
    "Введите месяц: март\n",
    "\n",
    "Введите число: 6\n",
    "\n",
    "Вывод:\n",
    "Рыбы"
   ]
  },
  {
   "cell_type": "code",
   "execution_count": 36,
   "metadata": {},
   "outputs": [
    {
     "name": "stdout",
     "output_type": "stream",
     "text": [
      "Рыбы\n",
      "Конец программы\n"
     ]
    }
   ],
   "source": [
    "month = 3\n",
    "day = 6\n",
    "if day >= 21 and month == 3 or day <= 20 and month == 4:\n",
    "    print('Овен')\n",
    "elif day >= 21 and month == 4 or day <= 21 and month == 5:\n",
    "    print('Телец')\n",
    "elif day >= 22 and month == 5 or day <= 21 and month == 6:\n",
    "    print('Близнецы')\n",
    "elif day >= 22 and month == 6 or day <= 22 and month == 7:\n",
    "    print('Рак')\n",
    "elif day >= 23 and month == 7 or day <= 23 and month == 8:\n",
    "    print('Лев')\n",
    "elif day >= 24 and month == 8 or day <= 23 and month == 9:\n",
    "    print('Дева')\n",
    "elif day >= 24 and month == 9 or day <= 23 and month == 10:\n",
    "    print('Весы')\n",
    "elif day >= 24 and month == 10 or day <= 22 and month == 11:\n",
    "    print('Скорпион')\n",
    "elif day >= 23 and month == 11 or day <= 22 and month == 12:\n",
    "    print('Стрелец')\n",
    "elif day >= 23 and month == 12 or day <= 20 and month == 1:\n",
    "    print('Козерог')\n",
    "elif day >= 21 and month == 1 or day <= 19 and month == 2:\n",
    "    print('Водолей')\n",
    "elif day >= 20 and month == 2 or day <= 20 and month == 3:\n",
    "    print('Рыбы')\n",
    "print('Конец программы')\n",
    "\n"
   ]
  },
  {
   "cell_type": "markdown",
   "metadata": {},
   "source": [
    "**Задание 4**. Нужно разработать приложение для финансового планирования.\n",
    "Приложение учитывает сколько уходит на ипотеку, \"на жизнь\" и сколько нужно отложить на пенсию.\n",
    "Пользователь вводит:\n",
    "- заработанную плату в месяц.\n",
    "- сколько процентов от ЗП уходит на ипотеку.\n",
    "- сколько процентов от ЗП уходит \"на жизнь\".\n",
    "- сколько раз приходит премия в год.\n",
    "\n",
    "Остальная часть заработанной платы откладывается на пенсию.\n",
    "\n",
    "Также пользователю приходит премия в размере зарплаты, от которой половина уходит на отпуск, а вторая половина откладывается.\n",
    "\n",
    "Программа должна учитывать сколько премий было в год.\n",
    "\n",
    "Нужно вывести сколько денег тратит пользователь на ипотеку и сколько он накопит за год.\n",
    "\n",
    "Пример:\n",
    "\n",
    "Введите заработанную плату в месяц: 100000\n",
    "\n",
    "Введите сколько процентов уходит на ипотеку: 30\n",
    "\n",
    "Введите сколько процентов уходит на жизнь: 50\n",
    "\n",
    "Введите количество премий за год: 2\n",
    "\n",
    "Вывод:\n",
    "На ипотеку было потрачено: 360000 рублей\n",
    "Было накоплено: 340000 рублей"
   ]
  },
  {
   "cell_type": "code",
   "execution_count": 95,
   "metadata": {},
   "outputs": [
    {
     "name": "stdout",
     "output_type": "stream",
     "text": [
      "На ипотеку было потрачено: 360000\n",
      "Было накоплено: 340000\n"
     ]
    }
   ],
   "source": [
    "monthly_salary = 100000\n",
    "the_interest_on_the_mortgage = 30\n",
    "percent_on_life = 50\n",
    "awards_per_year = 2\n",
    "awards_amount = 100000\n",
    "\n",
    "\n",
    "monthly_salary = awards_amount\n",
    "mortgage = monthly_salary * the_interest_on_the_mortgage // 100\n",
    "on_life = monthly_salary * percent_on_life // 100\n",
    "savings = monthly_salary - (mortgage + on_life)\n",
    "spent_on_mortgage = mortgage * 12\n",
    "print('На ипотеку было потрачено:', spent_on_mortgage)\n",
    "accumulated = savings * 12 + ((awards_amount // 2) * awards_per_year)\n",
    "print('Было накоплено:', accumulated)\n",
    "\n",
    "\n"
   ]
  }
 ],
 "metadata": {
  "kernelspec": {
   "display_name": "Python 3",
   "language": "python",
   "name": "python3"
  },
  "language_info": {
   "codemirror_mode": {
    "name": "ipython",
    "version": 3
   },
   "file_extension": ".py",
   "mimetype": "text/x-python",
   "name": "python",
   "nbconvert_exporter": "python",
   "pygments_lexer": "ipython3",
   "version": "3.7.3"
  }
 },
 "nbformat": 4,
 "nbformat_minor": 2
}
