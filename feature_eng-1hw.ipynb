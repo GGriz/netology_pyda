{
 "cells": [
  {
   "cell_type": "code",
   "execution_count": 63,
   "metadata": {},
   "outputs": [],
   "source": [
    "%matplotlib inline\n",
    "\n",
    "import numpy as np\n",
    "import pandas as pd\n",
    "import matplotlib.pyplot as plt\n",
    "\n",
    "from sklearn.linear_model import LinearRegression"
   ]
  },
  {
   "cell_type": "code",
   "execution_count": 64,
   "metadata": {},
   "outputs": [
    {
     "data": {
      "text/html": [
       "<div>\n",
       "<style scoped>\n",
       "    .dataframe tbody tr th:only-of-type {\n",
       "        vertical-align: middle;\n",
       "    }\n",
       "\n",
       "    .dataframe tbody tr th {\n",
       "        vertical-align: top;\n",
       "    }\n",
       "\n",
       "    .dataframe thead th {\n",
       "        text-align: right;\n",
       "    }\n",
       "</style>\n",
       "<table border=\"1\" class=\"dataframe\">\n",
       "  <thead>\n",
       "    <tr style=\"text-align: right;\">\n",
       "      <th></th>\n",
       "      <th>age_owner</th>\n",
       "      <th>length</th>\n",
       "      <th>width</th>\n",
       "      <th>price</th>\n",
       "    </tr>\n",
       "  </thead>\n",
       "  <tbody>\n",
       "    <tr>\n",
       "      <th>0</th>\n",
       "      <td>81</td>\n",
       "      <td>78</td>\n",
       "      <td>10</td>\n",
       "      <td>78000</td>\n",
       "    </tr>\n",
       "    <tr>\n",
       "      <th>1</th>\n",
       "      <td>27</td>\n",
       "      <td>63</td>\n",
       "      <td>33</td>\n",
       "      <td>207900</td>\n",
       "    </tr>\n",
       "    <tr>\n",
       "      <th>2</th>\n",
       "      <td>26</td>\n",
       "      <td>65</td>\n",
       "      <td>65</td>\n",
       "      <td>422500</td>\n",
       "    </tr>\n",
       "    <tr>\n",
       "      <th>3</th>\n",
       "      <td>89</td>\n",
       "      <td>54</td>\n",
       "      <td>21</td>\n",
       "      <td>113400</td>\n",
       "    </tr>\n",
       "    <tr>\n",
       "      <th>4</th>\n",
       "      <td>102</td>\n",
       "      <td>105</td>\n",
       "      <td>35</td>\n",
       "      <td>367500</td>\n",
       "    </tr>\n",
       "  </tbody>\n",
       "</table>\n",
       "</div>"
      ],
      "text/plain": [
       "   age_owner  length  width   price\n",
       "0         81      78     10   78000\n",
       "1         27      63     33  207900\n",
       "2         26      65     65  422500\n",
       "3         89      54     21  113400\n",
       "4        102     105     35  367500"
      ]
     },
     "execution_count": 64,
     "metadata": {},
     "output_type": "execute_result"
    }
   ],
   "source": [
    "# Создаём сэмпл\n",
    "n_samples = 500\n",
    "\n",
    "age_owner = np.random.choice(90, n_samples) + 21\n",
    "length = np.random.choice(120, n_samples) + 15\n",
    "width = np.random.choice(80, n_samples) + 10\n",
    "\n",
    "price = length * width * 100\n",
    "\n",
    "data = pd.DataFrame({'age_owner': age_owner, 'length': length, 'width': width, 'price': price})\n",
    "data.head(5)"
   ]
  },
  {
   "cell_type": "code",
   "execution_count": 65,
   "metadata": {},
   "outputs": [
    {
     "name": "stdout",
     "output_type": "stream",
     "text": [
      "Weights: [-257.48542082 4735.53667373 7413.81058854]\n",
      "Bias: -332932.76302401826\n",
      "Error: 55541.44685343691\n"
     ]
    }
   ],
   "source": [
    "from sklearn.metrics import mean_absolute_error\n",
    "\n",
    "X = data[['age_owner', 'length', 'width']]\n",
    "y = data['price']\n",
    "reg = LinearRegression().fit(X, y)\n",
    "print('Weights: {}'.format(reg.coef_))\n",
    "print('Bias: {}'.format(reg.intercept_))\n",
    "\n",
    "pred_values = reg.predict(data[['age_owner', 'length', 'width']])\n",
    "print('Error: {}'.format(mean_absolute_error(pred_values, y)))"
   ]
  },
  {
   "cell_type": "code",
   "execution_count": 66,
   "metadata": {},
   "outputs": [
    {
     "name": "stdout",
     "output_type": "stream",
     "text": [
      "Weights: [4740.67725968 7414.33397371]\n",
      "Bias: -350553.9474441905\n",
      "Error: 55844.50661606447\n"
     ]
    }
   ],
   "source": [
    "X = data[['length', 'width']]\n",
    "y = data['price']\n",
    "reg = LinearRegression().fit(X, y)\n",
    "print('Weights: {}'.format(reg.coef_))\n",
    "print('Bias: {}'.format(reg.intercept_))\n",
    "\n",
    "pred_values = reg.predict(data[['length', 'width']])\n",
    "print('Error: {}'.format(mean_absolute_error(pred_values, y)))"
   ]
  },
  {
   "cell_type": "code",
   "execution_count": 67,
   "metadata": {},
   "outputs": [
    {
     "data": {
      "text/html": [
       "<div>\n",
       "<style scoped>\n",
       "    .dataframe tbody tr th:only-of-type {\n",
       "        vertical-align: middle;\n",
       "    }\n",
       "\n",
       "    .dataframe tbody tr th {\n",
       "        vertical-align: top;\n",
       "    }\n",
       "\n",
       "    .dataframe thead th {\n",
       "        text-align: right;\n",
       "    }\n",
       "</style>\n",
       "<table border=\"1\" class=\"dataframe\">\n",
       "  <thead>\n",
       "    <tr style=\"text-align: right;\">\n",
       "      <th></th>\n",
       "      <th>age_owner</th>\n",
       "      <th>length</th>\n",
       "      <th>width</th>\n",
       "      <th>price</th>\n",
       "      <th>mult</th>\n",
       "    </tr>\n",
       "  </thead>\n",
       "  <tbody>\n",
       "    <tr>\n",
       "      <th>0</th>\n",
       "      <td>81</td>\n",
       "      <td>78</td>\n",
       "      <td>10</td>\n",
       "      <td>78000</td>\n",
       "      <td>780</td>\n",
       "    </tr>\n",
       "    <tr>\n",
       "      <th>1</th>\n",
       "      <td>27</td>\n",
       "      <td>63</td>\n",
       "      <td>33</td>\n",
       "      <td>207900</td>\n",
       "      <td>2079</td>\n",
       "    </tr>\n",
       "    <tr>\n",
       "      <th>2</th>\n",
       "      <td>26</td>\n",
       "      <td>65</td>\n",
       "      <td>65</td>\n",
       "      <td>422500</td>\n",
       "      <td>4225</td>\n",
       "    </tr>\n",
       "    <tr>\n",
       "      <th>3</th>\n",
       "      <td>89</td>\n",
       "      <td>54</td>\n",
       "      <td>21</td>\n",
       "      <td>113400</td>\n",
       "      <td>1134</td>\n",
       "    </tr>\n",
       "    <tr>\n",
       "      <th>4</th>\n",
       "      <td>102</td>\n",
       "      <td>105</td>\n",
       "      <td>35</td>\n",
       "      <td>367500</td>\n",
       "      <td>3675</td>\n",
       "    </tr>\n",
       "  </tbody>\n",
       "</table>\n",
       "</div>"
      ],
      "text/plain": [
       "   age_owner  length  width   price  mult\n",
       "0         81      78     10   78000   780\n",
       "1         27      63     33  207900  2079\n",
       "2         26      65     65  422500  4225\n",
       "3         89      54     21  113400  1134\n",
       "4        102     105     35  367500  3675"
      ]
     },
     "execution_count": 67,
     "metadata": {},
     "output_type": "execute_result"
    }
   ],
   "source": [
    "# Создаем новый признак\n",
    "data['mult'] = data['length'] * data['width']\n",
    "data.head(5)"
   ]
  },
  {
   "cell_type": "code",
   "execution_count": 68,
   "metadata": {},
   "outputs": [
    {
     "name": "stdout",
     "output_type": "stream",
     "text": [
      "Weights: [100.]\n",
      "Bias: -1.1641532182693481e-10\n",
      "Error: 5.916081136092544e-11\n"
     ]
    }
   ],
   "source": [
    "X = data[['mult']]\n",
    "y = data['price']\n",
    "reg = LinearRegression().fit(X, y)\n",
    "print('Weights: {}'.format(reg.coef_))\n",
    "print('Bias: {}'.format(reg.intercept_))\n",
    "\n",
    "pred_values = reg.predict(data[['mult']])\n",
    "print('Error: {}'.format(mean_absolute_error(pred_values, y)))"
   ]
  },
  {
   "cell_type": "markdown",
   "metadata": {},
   "source": [
    "## ** Домашнее задание **"
   ]
  },
  {
   "cell_type": "markdown",
   "metadata": {},
   "source": [
    "По образу практики, попробуйте создать искусственный датасет с лишними столбцами.\n",
    "\n",
    "Для начала создам датафрейм, содержащий инофрмацию о людях:\n",
    "\n",
    "* Возраст - 2 - 90 age\n",
    "* Пол - m(male) / f(female)\n",
    "* Вес - 7 - 210 kg\n",
    "* Рост - 60 - 225 sm\n",
    "* Фототип кожи - Scandinavian, light-skinned European, central european, Mediterranean, Asian, African.\n",
    "* Размер обуви - 34 - 52 sm\n",
    "* Умер - y(yes)/n(no)\n",
    "\n",
    "По данному датафрейму, буду пытаться понять влияет ли масса тела, да и просто его размеры на смерть."
   ]
  },
  {
   "cell_type": "code",
   "execution_count": 93,
   "metadata": {},
   "outputs": [],
   "source": [
    "YES = 'y'\n",
    "NO = 'm'\n",
    "MALE = 'm'\n",
    "FEMALE = 'f'\n",
    "n_samples = 5000\n",
    "\n",
    "skin_phototypes = ['scandinavian', 'light_skinned_European', 'central_european', 'mediterranean', 'asian', 'african']\n",
    "skin_phototype = [skin_phototypes[i] for i in np.random.choice(6, n_samples)]\n",
    "\n",
    "age = np.random.choice(88, n_samples) + 3\n",
    "weight = np.random.choice(141, n_samples) + 10\n",
    "height = np.random.choice(171, n_samples) + 50\n",
    "sex = [FEMALE if i > 1 else MALE for i in np.random.choice(3, n_samples)]\n",
    "died = [YES if i < 1 else NO for i in np.random.choice(50, n_samples)]\n",
    "shoe_size = np.random.choice(35, n_samples) + 18"
   ]
  },
  {
   "cell_type": "code",
   "execution_count": 94,
   "metadata": {},
   "outputs": [
    {
     "data": {
      "text/html": [
       "<div>\n",
       "<style scoped>\n",
       "    .dataframe tbody tr th:only-of-type {\n",
       "        vertical-align: middle;\n",
       "    }\n",
       "\n",
       "    .dataframe tbody tr th {\n",
       "        vertical-align: top;\n",
       "    }\n",
       "\n",
       "    .dataframe thead th {\n",
       "        text-align: right;\n",
       "    }\n",
       "</style>\n",
       "<table border=\"1\" class=\"dataframe\">\n",
       "  <thead>\n",
       "    <tr style=\"text-align: right;\">\n",
       "      <th></th>\n",
       "      <th>age</th>\n",
       "      <th>weight</th>\n",
       "      <th>height</th>\n",
       "      <th>sex</th>\n",
       "      <th>shoe_size</th>\n",
       "      <th>skin_phototype</th>\n",
       "      <th>died</th>\n",
       "    </tr>\n",
       "  </thead>\n",
       "  <tbody>\n",
       "    <tr>\n",
       "      <th>0</th>\n",
       "      <td>56</td>\n",
       "      <td>71</td>\n",
       "      <td>99</td>\n",
       "      <td>m</td>\n",
       "      <td>26</td>\n",
       "      <td>light_skinned_European</td>\n",
       "      <td>m</td>\n",
       "    </tr>\n",
       "    <tr>\n",
       "      <th>1</th>\n",
       "      <td>53</td>\n",
       "      <td>147</td>\n",
       "      <td>102</td>\n",
       "      <td>m</td>\n",
       "      <td>36</td>\n",
       "      <td>scandinavian</td>\n",
       "      <td>m</td>\n",
       "    </tr>\n",
       "    <tr>\n",
       "      <th>2</th>\n",
       "      <td>8</td>\n",
       "      <td>73</td>\n",
       "      <td>88</td>\n",
       "      <td>m</td>\n",
       "      <td>25</td>\n",
       "      <td>african</td>\n",
       "      <td>m</td>\n",
       "    </tr>\n",
       "    <tr>\n",
       "      <th>3</th>\n",
       "      <td>24</td>\n",
       "      <td>14</td>\n",
       "      <td>97</td>\n",
       "      <td>f</td>\n",
       "      <td>40</td>\n",
       "      <td>asian</td>\n",
       "      <td>m</td>\n",
       "    </tr>\n",
       "    <tr>\n",
       "      <th>4</th>\n",
       "      <td>45</td>\n",
       "      <td>138</td>\n",
       "      <td>79</td>\n",
       "      <td>m</td>\n",
       "      <td>39</td>\n",
       "      <td>light_skinned_European</td>\n",
       "      <td>m</td>\n",
       "    </tr>\n",
       "  </tbody>\n",
       "</table>\n",
       "</div>"
      ],
      "text/plain": [
       "   age  weight  height sex  shoe_size          skin_phototype died\n",
       "0   56      71      99   m         26  light_skinned_European    m\n",
       "1   53     147     102   m         36            scandinavian    m\n",
       "2    8      73      88   m         25                 african    m\n",
       "3   24      14      97   f         40                   asian    m\n",
       "4   45     138      79   m         39  light_skinned_European    m"
      ]
     },
     "execution_count": 94,
     "metadata": {},
     "output_type": "execute_result"
    }
   ],
   "source": [
    "target_label = 'died'\n",
    "labels = ['age', 'weight', 'height', 'sex', 'shoe_size', 'skin_phototype']\n",
    "all_labels = [*labels, target_label]\n",
    "data = [age, weight, height, sex, shoe_size, skin_phototype, died]\n",
    "\n",
    "df = pd.DataFrame(\n",
    "    data=dict(zip(all_labels, data)),\n",
    ")\n",
    "\n",
    "df.head()"
   ]
  },
  {
   "cell_type": "markdown",
   "metadata": {},
   "source": [
    "С горем пополам вроде поулчился нужный датасет."
   ]
  },
  {
   "cell_type": "code",
   "execution_count": 95,
   "metadata": {},
   "outputs": [
    {
     "name": "stdout",
     "output_type": "stream",
     "text": [
      "<class 'pandas.core.frame.DataFrame'>\n",
      "RangeIndex: 5000 entries, 0 to 4999\n",
      "Data columns (total 7 columns):\n",
      "age               5000 non-null int32\n",
      "weight            5000 non-null int32\n",
      "height            5000 non-null int32\n",
      "sex               5000 non-null object\n",
      "shoe_size         5000 non-null int32\n",
      "skin_phototype    5000 non-null object\n",
      "died              5000 non-null object\n",
      "dtypes: int32(4), object(3)\n",
      "memory usage: 195.4+ KB\n"
     ]
    }
   ],
   "source": [
    "df.info()"
   ]
  },
  {
   "cell_type": "markdown",
   "metadata": {},
   "source": [
    "Что бы было посложнее, решил не делать все значения числовыми, а перевести самостоятельно.\n",
    "\n",
    "Каждый значение 'n' мы заменим на 0, 'y' на 1, 'f' на 0, 'm' на 1.\n",
    "\n",
    "Каждый значение из skin_phototype мы заменим на число от 1 до длины списка значений skin_phototypes"
   ]
  },
  {
   "cell_type": "code",
   "execution_count": 96,
   "metadata": {},
   "outputs": [
    {
     "data": {
      "text/html": [
       "<div>\n",
       "<style scoped>\n",
       "    .dataframe tbody tr th:only-of-type {\n",
       "        vertical-align: middle;\n",
       "    }\n",
       "\n",
       "    .dataframe tbody tr th {\n",
       "        vertical-align: top;\n",
       "    }\n",
       "\n",
       "    .dataframe thead th {\n",
       "        text-align: right;\n",
       "    }\n",
       "</style>\n",
       "<table border=\"1\" class=\"dataframe\">\n",
       "  <thead>\n",
       "    <tr style=\"text-align: right;\">\n",
       "      <th></th>\n",
       "      <th>age</th>\n",
       "      <th>weight</th>\n",
       "      <th>height</th>\n",
       "      <th>sex</th>\n",
       "      <th>shoe_size</th>\n",
       "      <th>skin_phototype</th>\n",
       "      <th>died</th>\n",
       "    </tr>\n",
       "  </thead>\n",
       "  <tbody>\n",
       "    <tr>\n",
       "      <th>0</th>\n",
       "      <td>56</td>\n",
       "      <td>71</td>\n",
       "      <td>99</td>\n",
       "      <td>m</td>\n",
       "      <td>26</td>\n",
       "      <td>light_skinned_European</td>\n",
       "      <td>0</td>\n",
       "    </tr>\n",
       "    <tr>\n",
       "      <th>1</th>\n",
       "      <td>53</td>\n",
       "      <td>147</td>\n",
       "      <td>102</td>\n",
       "      <td>m</td>\n",
       "      <td>36</td>\n",
       "      <td>scandinavian</td>\n",
       "      <td>0</td>\n",
       "    </tr>\n",
       "    <tr>\n",
       "      <th>2</th>\n",
       "      <td>8</td>\n",
       "      <td>73</td>\n",
       "      <td>88</td>\n",
       "      <td>m</td>\n",
       "      <td>25</td>\n",
       "      <td>african</td>\n",
       "      <td>0</td>\n",
       "    </tr>\n",
       "    <tr>\n",
       "      <th>3</th>\n",
       "      <td>24</td>\n",
       "      <td>14</td>\n",
       "      <td>97</td>\n",
       "      <td>f</td>\n",
       "      <td>40</td>\n",
       "      <td>asian</td>\n",
       "      <td>0</td>\n",
       "    </tr>\n",
       "    <tr>\n",
       "      <th>4</th>\n",
       "      <td>45</td>\n",
       "      <td>138</td>\n",
       "      <td>79</td>\n",
       "      <td>m</td>\n",
       "      <td>39</td>\n",
       "      <td>light_skinned_European</td>\n",
       "      <td>0</td>\n",
       "    </tr>\n",
       "  </tbody>\n",
       "</table>\n",
       "</div>"
      ],
      "text/plain": [
       "   age  weight  height sex  shoe_size          skin_phototype  died\n",
       "0   56      71      99   m         26  light_skinned_European     0\n",
       "1   53     147     102   m         36            scandinavian     0\n",
       "2    8      73      88   m         25                 african     0\n",
       "3   24      14      97   f         40                   asian     0\n",
       "4   45     138      79   m         39  light_skinned_European     0"
      ]
     },
     "execution_count": 96,
     "metadata": {},
     "output_type": "execute_result"
    }
   ],
   "source": [
    "def change_y_n(val):\n",
    "    if val == NO:\n",
    "        return 0\n",
    "    elif val == YES:\n",
    "        return 1\n",
    "    return val\n",
    "\n",
    "df['died'] = df['died'].apply(change_y_n)\n",
    "\n",
    "df.head()"
   ]
  },
  {
   "cell_type": "code",
   "execution_count": 97,
   "metadata": {},
   "outputs": [
    {
     "data": {
      "text/html": [
       "<div>\n",
       "<style scoped>\n",
       "    .dataframe tbody tr th:only-of-type {\n",
       "        vertical-align: middle;\n",
       "    }\n",
       "\n",
       "    .dataframe tbody tr th {\n",
       "        vertical-align: top;\n",
       "    }\n",
       "\n",
       "    .dataframe thead th {\n",
       "        text-align: right;\n",
       "    }\n",
       "</style>\n",
       "<table border=\"1\" class=\"dataframe\">\n",
       "  <thead>\n",
       "    <tr style=\"text-align: right;\">\n",
       "      <th></th>\n",
       "      <th>age</th>\n",
       "      <th>weight</th>\n",
       "      <th>height</th>\n",
       "      <th>sex</th>\n",
       "      <th>shoe_size</th>\n",
       "      <th>skin_phototype</th>\n",
       "      <th>died</th>\n",
       "    </tr>\n",
       "  </thead>\n",
       "  <tbody>\n",
       "    <tr>\n",
       "      <th>0</th>\n",
       "      <td>56</td>\n",
       "      <td>71</td>\n",
       "      <td>99</td>\n",
       "      <td>m</td>\n",
       "      <td>26</td>\n",
       "      <td>2</td>\n",
       "      <td>0</td>\n",
       "    </tr>\n",
       "    <tr>\n",
       "      <th>1</th>\n",
       "      <td>53</td>\n",
       "      <td>147</td>\n",
       "      <td>102</td>\n",
       "      <td>m</td>\n",
       "      <td>36</td>\n",
       "      <td>1</td>\n",
       "      <td>0</td>\n",
       "    </tr>\n",
       "    <tr>\n",
       "      <th>2</th>\n",
       "      <td>8</td>\n",
       "      <td>73</td>\n",
       "      <td>88</td>\n",
       "      <td>m</td>\n",
       "      <td>25</td>\n",
       "      <td>6</td>\n",
       "      <td>0</td>\n",
       "    </tr>\n",
       "    <tr>\n",
       "      <th>3</th>\n",
       "      <td>24</td>\n",
       "      <td>14</td>\n",
       "      <td>97</td>\n",
       "      <td>f</td>\n",
       "      <td>40</td>\n",
       "      <td>5</td>\n",
       "      <td>0</td>\n",
       "    </tr>\n",
       "    <tr>\n",
       "      <th>4</th>\n",
       "      <td>45</td>\n",
       "      <td>138</td>\n",
       "      <td>79</td>\n",
       "      <td>m</td>\n",
       "      <td>39</td>\n",
       "      <td>2</td>\n",
       "      <td>0</td>\n",
       "    </tr>\n",
       "  </tbody>\n",
       "</table>\n",
       "</div>"
      ],
      "text/plain": [
       "   age  weight  height sex  shoe_size  skin_phototype  died\n",
       "0   56      71      99   m         26               2     0\n",
       "1   53     147     102   m         36               1     0\n",
       "2    8      73      88   m         25               6     0\n",
       "3   24      14      97   f         40               5     0\n",
       "4   45     138      79   m         39               2     0"
      ]
     },
     "execution_count": 97,
     "metadata": {},
     "output_type": "execute_result"
    }
   ],
   "source": [
    "def change_skin_phototype(val):\n",
    "    try:\n",
    "        return skin_phototypes.index(val) + 1 # count from 1\n",
    "    except:\n",
    "        return -1\n",
    "    return val\n",
    "\n",
    "df['skin_phototype'] = df['skin_phototype'].apply(change_skin_phototype)\n",
    "\n",
    "df.head()"
   ]
  },
  {
   "cell_type": "code",
   "execution_count": 98,
   "metadata": {},
   "outputs": [
    {
     "data": {
      "text/html": [
       "<div>\n",
       "<style scoped>\n",
       "    .dataframe tbody tr th:only-of-type {\n",
       "        vertical-align: middle;\n",
       "    }\n",
       "\n",
       "    .dataframe tbody tr th {\n",
       "        vertical-align: top;\n",
       "    }\n",
       "\n",
       "    .dataframe thead th {\n",
       "        text-align: right;\n",
       "    }\n",
       "</style>\n",
       "<table border=\"1\" class=\"dataframe\">\n",
       "  <thead>\n",
       "    <tr style=\"text-align: right;\">\n",
       "      <th></th>\n",
       "      <th>age</th>\n",
       "      <th>weight</th>\n",
       "      <th>height</th>\n",
       "      <th>sex</th>\n",
       "      <th>shoe_size</th>\n",
       "      <th>skin_phototype</th>\n",
       "      <th>died</th>\n",
       "    </tr>\n",
       "  </thead>\n",
       "  <tbody>\n",
       "    <tr>\n",
       "      <th>0</th>\n",
       "      <td>56</td>\n",
       "      <td>71</td>\n",
       "      <td>99</td>\n",
       "      <td>1</td>\n",
       "      <td>26</td>\n",
       "      <td>2</td>\n",
       "      <td>0</td>\n",
       "    </tr>\n",
       "    <tr>\n",
       "      <th>1</th>\n",
       "      <td>53</td>\n",
       "      <td>147</td>\n",
       "      <td>102</td>\n",
       "      <td>1</td>\n",
       "      <td>36</td>\n",
       "      <td>1</td>\n",
       "      <td>0</td>\n",
       "    </tr>\n",
       "    <tr>\n",
       "      <th>2</th>\n",
       "      <td>8</td>\n",
       "      <td>73</td>\n",
       "      <td>88</td>\n",
       "      <td>1</td>\n",
       "      <td>25</td>\n",
       "      <td>6</td>\n",
       "      <td>0</td>\n",
       "    </tr>\n",
       "    <tr>\n",
       "      <th>3</th>\n",
       "      <td>24</td>\n",
       "      <td>14</td>\n",
       "      <td>97</td>\n",
       "      <td>0</td>\n",
       "      <td>40</td>\n",
       "      <td>5</td>\n",
       "      <td>0</td>\n",
       "    </tr>\n",
       "    <tr>\n",
       "      <th>4</th>\n",
       "      <td>45</td>\n",
       "      <td>138</td>\n",
       "      <td>79</td>\n",
       "      <td>1</td>\n",
       "      <td>39</td>\n",
       "      <td>2</td>\n",
       "      <td>0</td>\n",
       "    </tr>\n",
       "  </tbody>\n",
       "</table>\n",
       "</div>"
      ],
      "text/plain": [
       "   age  weight  height  sex  shoe_size  skin_phototype  died\n",
       "0   56      71      99    1         26               2     0\n",
       "1   53     147     102    1         36               1     0\n",
       "2    8      73      88    1         25               6     0\n",
       "3   24      14      97    0         40               5     0\n",
       "4   45     138      79    1         39               2     0"
      ]
     },
     "execution_count": 98,
     "metadata": {},
     "output_type": "execute_result"
    }
   ],
   "source": [
    "def change_sex(val):\n",
    "    if val == FEMALE:\n",
    "        return 0\n",
    "    elif val == MALE:\n",
    "        return 1\n",
    "    return val\n",
    "\n",
    "df['sex'] = df['sex'].apply(change_sex)\n",
    "\n",
    "df.head()"
   ]
  },
  {
   "cell_type": "markdown",
   "metadata": {},
   "source": [
    "Все колонки с значением \"object\", переведены к числовому типу."
   ]
  },
  {
   "cell_type": "code",
   "execution_count": 99,
   "metadata": {},
   "outputs": [
    {
     "name": "stdout",
     "output_type": "stream",
     "text": [
      "<class 'pandas.core.frame.DataFrame'>\n",
      "RangeIndex: 5000 entries, 0 to 4999\n",
      "Data columns (total 7 columns):\n",
      "age               5000 non-null int32\n",
      "weight            5000 non-null int32\n",
      "height            5000 non-null int32\n",
      "sex               5000 non-null int64\n",
      "shoe_size         5000 non-null int32\n",
      "skin_phototype    5000 non-null int64\n",
      "died              5000 non-null int64\n",
      "dtypes: int32(4), int64(3)\n",
      "memory usage: 195.4 KB\n"
     ]
    }
   ],
   "source": [
    "df.info()"
   ]
  },
  {
   "cell_type": "markdown",
   "metadata": {},
   "source": [
    "Так как вроде я больше не мудрил и реузльтат схож с примером можно приступать к импровизации."
   ]
  },
  {
   "cell_type": "code",
   "execution_count": 120,
   "metadata": {},
   "outputs": [],
   "source": [
    "x = df[[*labels, 'sex', 'died']]\n",
    "y = df[target_label]"
   ]
  },
  {
   "cell_type": "code",
   "execution_count": 121,
   "metadata": {},
   "outputs": [
    {
     "name": "stdout",
     "output_type": "stream",
     "text": [
      "Weights: [-2.42141508e-19  7.58941521e-19 -4.33680869e-19  1.98811973e-16\n",
      " -1.26546722e-18 -1.26716129e-18 -1.69816765e-16  1.00000000e+00]\n",
      "Bias: 2.7755575615628914e-17\n",
      "Error: 4.422074269874227e-17\n"
     ]
    }
   ],
   "source": [
    "model = LinearRegression().fit(x, y)\n",
    "print(f'Weights: {model.coef_}')\n",
    "print(f'Bias: {model.intercept_}')\n",
    "\n",
    "pred_values = model.predict(x)\n",
    "print(f'Error: {mean_absolute_error(pred_values, y)}')"
   ]
  },
  {
   "cell_type": "markdown",
   "metadata": {},
   "source": [
    "тут пришлось разбираться почему все нахрен перестало работать, так как он не хотел воспринимать значение 'yes' пришлось менять на y.\n",
    "\n",
    "Попробую удалить лишнее значение, такое как shoe_size."
   ]
  },
  {
   "cell_type": "code",
   "execution_count": 122,
   "metadata": {},
   "outputs": [],
   "source": [
    "x = df[['age', 'weight', 'height', 'sex', 'skin_phototype']]\n",
    "y = df[target_label]"
   ]
  },
  {
   "cell_type": "code",
   "execution_count": 123,
   "metadata": {},
   "outputs": [
    {
     "name": "stdout",
     "output_type": "stream",
     "text": [
      "Weights: [-2.76350184e-05  8.98705970e-05  4.74399405e-05  3.33760852e-03\n",
      "  4.45197093e-04]\n",
      "Bias: 0.00534461221776323\n",
      "Error: 0.04183848880615871\n"
     ]
    }
   ],
   "source": [
    "model = LinearRegression().fit(x, y)\n",
    "print(f'Weights: {model.coef_}')\n",
    "print(f'Bias: {model.intercept_}')\n",
    "\n",
    "pred_values = model.predict(x)\n",
    "print(f'Error: {mean_absolute_error(pred_values, y)}')"
   ]
  },
  {
   "cell_type": "markdown",
   "metadata": {},
   "source": [
    "Почему то как то странно поменялись данные, но порпоруем убрать еще 'age', 'sex', 'skin_phototype'."
   ]
  },
  {
   "cell_type": "code",
   "execution_count": 124,
   "metadata": {},
   "outputs": [],
   "source": [
    "x = df[['weight', 'height',]]\n",
    "y = df[target_label]"
   ]
  },
  {
   "cell_type": "code",
   "execution_count": 125,
   "metadata": {},
   "outputs": [
    {
     "name": "stdout",
     "output_type": "stream",
     "text": [
      "Weights: [9.08685338e-05 4.69898664e-05]\n",
      "Bias: 0.007850262729244783\n",
      "Error: 0.041845509930155754\n"
     ]
    }
   ],
   "source": [
    "model = LinearRegression().fit(x, y)\n",
    "print(f'Weights: {model.coef_}')\n",
    "print(f'Bias: {model.intercept_}')\n",
    "\n",
    "pred_values = model.predict(x)\n",
    "print(f'Error: {mean_absolute_error(pred_values, y)}')"
   ]
  },
  {
   "cell_type": "markdown",
   "metadata": {},
   "source": [
    "Теперь как показанно в примере создаем новый индекс, в моем случаее это масса тела."
   ]
  },
  {
   "cell_type": "code",
   "execution_count": 126,
   "metadata": {},
   "outputs": [],
   "source": [
    "df['body weight'] = df['weight'] / pow(df['height'] / 100, 2)"
   ]
  },
  {
   "cell_type": "code",
   "execution_count": 127,
   "metadata": {},
   "outputs": [],
   "source": [
    "x = df[['body weight']]\n",
    "y = df[target_label]"
   ]
  },
  {
   "cell_type": "code",
   "execution_count": 128,
   "metadata": {},
   "outputs": [
    {
     "name": "stdout",
     "output_type": "stream",
     "text": [
      "Weights: [3.7454919e-06]\n",
      "Bias: 0.02112184022155591\n",
      "Error: 0.041883863581774275\n"
     ]
    }
   ],
   "source": [
    "model = LinearRegression().fit(x, y)\n",
    "print(f'Weights: {model.coef_}')\n",
    "print(f'Bias: {model.intercept_}')\n",
    "\n",
    "pred_values = model.predict(x)\n",
    "print(f'Error: {mean_absolute_error(pred_values, y)}')"
   ]
  },
  {
   "cell_type": "markdown",
   "metadata": {},
   "source": [
    "Не совсем догнал что нам доют, данные по средним ошибкам, но после обработки мы можем провести в разы больше проверок, чем раньше.\n",
    "\n",
    "Скорее всего по нормальным датасетам, с настоящими данными. полученные материлы будут более понятны и вменяемы."
   ]
  }
 ],
 "metadata": {
  "kernelspec": {
   "display_name": "Python 3",
   "language": "python",
   "name": "python3"
  },
  "language_info": {
   "codemirror_mode": {
    "name": "ipython",
    "version": 3
   },
   "file_extension": ".py",
   "mimetype": "text/x-python",
   "name": "python",
   "nbconvert_exporter": "python",
   "pygments_lexer": "ipython3",
   "version": "3.7.3"
  }
 },
 "nbformat": 4,
 "nbformat_minor": 2
}
